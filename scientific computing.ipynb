{
  "cells": [
    {
      "cell_type": "markdown",
      "metadata": {
        "id": "-EbkpfFXs6KH"
      },
      "source": [
        "$(4/3) \\cdot \\pi \\cdot r^3$\n"
      ]
    },
    {
      "cell_type": "code",
      "execution_count": 3,
      "metadata": {
        "colab": {
          "base_uri": "https://localhost:8080/"
        },
        "id": "HFNo713LtDCK",
        "outputId": "a05acd5a-0da5-4c2f-806e-ec997674b98f"
      },
      "outputs": [
        {
          "name": "stdout",
          "output_type": "stream",
          "text": [
            "5\n",
            "Sphere Volume: 524.19\n"
          ]
        }
      ],
      "source": [
        "PI = 3.145159\n",
        "\n",
        "radius_of_sphere = float(input())\n",
        "\n",
        "volume_of_sphere = (4/3) * PI * radius_of_sphere**3\n",
        "print(f'Sphere Volume: {volume_of_sphere:.2f}')"
      ]
    },
    {
      "cell_type": "markdown",
      "metadata": {
        "id": "dGmeq7MHw6sm"
      },
      "source": [
        "\\[\n",
        "\\begin{align*}\n",
        "x_1 + 2x_2 - x_3 &= -2 \\\\\n",
        "2x_1 + 7x_2 - 8x_3 &= -16 \\\\\n",
        "-2x_2 + 2x_3 &= 2 \\\\\n",
        "\\end{align*}\n",
        "\\]\n"
      ]
    },
    {
      "cell_type": "code",
      "execution_count": 4,
      "metadata": {
        "colab": {
          "base_uri": "https://localhost:8080/"
        },
        "id": "rgcZSuoSxx--",
        "outputId": "53fe3a6c-0167-4e33-9cb4-cd780b7d3073"
      },
      "outputs": [
        {
          "name": "stdout",
          "output_type": "stream",
          "text": [
            "Solution:\n",
            "x_1 = -3\n",
            "x_2 = 2\n",
            "x_3 = 3\n"
          ]
        }
      ],
      "source": [
        "import numpy as np\n",
        "\n",
        "A = np.array([[1, 2, -1],\n",
        "              [2, 7, -8],\n",
        "              [0, -2, 2]])\n",
        "\n",
        "b = np.array([-2, -16, 2])\n",
        "\n",
        "augmented_matrix = np.column_stack((A, b))\n",
        "\n",
        "rows, cols = augmented_matrix.shape\n",
        "\n",
        "for i in range(rows):\n",
        "\n",
        "    augmented_matrix[i] = augmented_matrix[i] / augmented_matrix[i, i]\n",
        "\n",
        "\n",
        "    for j in range(rows):\n",
        "        if i != j:\n",
        "            augmented_matrix[j] = augmented_matrix[j] - augmented_matrix[j, i] * augmented_matrix[i]\n",
        "\n",
        "solution = augmented_matrix[:, -1]\n",
        "\n",
        "print(\"Solution:\")\n",
        "for i in range(len(solution)):\n",
        "    print(f\"x_{i+1} =\", solution[i])\n"
      ]
    },
    {
      "cell_type": "markdown",
      "metadata": {
        "id": "E9Nw5y6vy1T0"
      },
      "source": [
        "Compound Interest\n",
        "$$ A = P \\left(1 + \\frac{r}{n}\\right)^{nt} $$\n"
      ]
    },
    {
      "cell_type": "code",
      "execution_count": 7,
      "metadata": {
        "colab": {
          "base_uri": "https://localhost:8080/"
        },
        "id": "nmATFW-9zDx7",
        "outputId": "e6edb301-9440-48a0-cd25-3179cbe8386b"
      },
      "outputs": [
        {
          "name": "stdout",
          "output_type": "stream",
          "text": [
            "The future value after 5 years will be: Kes 176234.17\n"
          ]
        }
      ],
      "source": [
        "# Given values\n",
        "principal = 100000  # initial deposit\n",
        "interest_rate = 0.12  # 12% interest rate per annum\n",
        "years = 5  # investment period\n",
        "\n",
        "# Assuming interest is compounded annually (n=1)\n",
        "compounds_per_year = 1\n",
        "\n",
        "future_value = principal * (1 + interest_rate / compounds_per_year)**(compounds_per_year * years)\n",
        "\n",
        "print(f\"The future value after {years} years will be: Kes {future_value:.2f}\")\n"
      ]
    }
  ],
  "metadata": {
    "colab": {
      "provenance": []
    },
    "kernelspec": {
      "display_name": "Python 3",
      "name": "python3"
    },
    "language_info": {
      "name": "python"
    }
  },
  "nbformat": 4,
  "nbformat_minor": 0
}
